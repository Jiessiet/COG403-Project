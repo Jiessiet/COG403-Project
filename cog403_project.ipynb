{
 "cells":[
  {
   "cell_type":"markdown",
   "source":[
    "# COG403 Project - Mizna & Jiessie\n",
    "## Affective Ratings of Words: Exploring the Predictive Power of Linguistic Features"
   ],
   "attachments":{
    
   },
   "metadata":{
    "datalore":{
     "node_id":"NreM9ZNT8hAk2QNk9tyUO8",
     "type":"MD",
     "hide_input_from_viewers":false,
     "hide_output_from_viewers":false,
     "report_properties":{
      "rowId":"ggVwqYfPVDYuOwzHyPtigc",
      "relativeY":0
     }
    }
   }
  },
  {
   "cell_type":"markdown",
   "source":[
    "## STEP 1: Feature Extraction\n",
    "In this step, we organize the datasets which contain features for a large set of words. From there, the features are extracted and stored in data structures such as lists and dictionaries."
   ],
   "attachments":{
    
   },
   "metadata":{
    "datalore":{
     "node_id":"7bfxU3PRNcfenxm0q7IQrS",
     "type":"MD",
     "hide_input_from_viewers":false,
     "hide_output_from_viewers":false,
     "report_properties":{
      "rowId":"7ro98QzxQbJIgzlm01WluE",
      "relativeY":0
     }
    }
   }
  },
  {
   "cell_type":"code",
   "source":[
    "# Important necessary libraries\n",
    "import csv\n",
    "import pandas as pd\n",
    "import string\n",
    "import numpy as np\n",
    "import pickle\n",
    "import matplotlib.pyplot as plt\n",
    "from collections import defaultdict\n",
    "import sklearn\n",
    "from itertools import tee, islice\n",
    "from scipy.stats import norm\n",
    "from sklearn.decomposition import PCA"
   ],
   "execution_count":2,
   "outputs":[
    
   ],
   "metadata":{
    "datalore":{
     "node_id":"DGApj5iVW1irvvXRQsVytd",
     "type":"CODE",
     "hide_input_from_viewers":false,
     "hide_output_from_viewers":false,
     "report_properties":{
      "rowId":"lA49hwzJTKOKXoDy1xjV3a",
      "relativeY":0
     }
    }
   }
  },
  {
   "cell_type":"markdown",
   "source":[
    "### Dataset Organization\n",
    "In this section, we prune extra and redundant data. We first do a join on the datasets according to the overlapping words. resulting in a large dataset.\n",
    " \n",
    "We then delete columns holding data for unnecessary features, outputting the data we will be using throughout the rest of the project."
   ],
   "attachments":{
    
   },
   "metadata":{
    "datalore":{
     "node_id":"f0aEhbMewNTrBirh99W3hP",
     "type":"MD",
     "hide_input_from_viewers":false,
     "hide_output_from_viewers":false,
     "report_properties":{
      "rowId":"W9tfqEngjNpug0DiNxDNV4",
      "relativeY":0
     }
    }
   }
  },
  {
   "cell_type":"code",
   "source":[
    "word_prev = pd.read_excel(r'Wordprevalences.xlsx')\n",
    "rt_conc_aoa_prev = pd.read_csv('reaction_time_all.csv')\n",
    "affective_scores = pd.read_csv('Ratings_Warriner_et_al.csv')\n",
    "\n",
    "\n",
    "half = pd.merge(word_prev, rt_conc_aoa_prev, on=['Word'], how='inner')\n",
    "full_dataset = pd.merge(half, affective_scores, on=['Word'], how='inner')\n",
    "\n",
    "delete_attr = ['Pknown', 'Nobs', 'Lemma', 'OLD', 'PLD', 'V.Mean.M', 'V.SD.M', 'V.Rat.M', 'V.Mean.F', 'V.SD.F', 'V.Rat.F', 'A.Mean.M', 'A.SD.M', \n",
    "               'A.Rat.M', 'A.Mean.F', 'A.SD.F', 'A.Rat.F', 'D.Mean.M', 'D.SD.M', 'D.Rat.M', 'D.Mean.F', 'D.SD.F', 'D.Rat.F', \n",
    "               'V.Mean.Y', 'V.SD.Y', 'V.Rat.Y', 'V.Mean.O', 'V.SD.O', 'V.Rat.O', 'A.Mean.Y', 'A.SD.Y', 'A.Rat.Y', 'A.Mean.O', \n",
    "               'A.SD.O', 'A.Rat.O', 'D.Mean.Y', 'D.SD.Y', 'D.Rat.Y', 'D.Mean.O', 'D.SD.O', 'D.Rat.O', 'V.Mean.L', 'V.SD.L', \n",
    "               'V.Rat.L', 'V.Mean.H', 'V.SD.H', 'V.Rat.H', 'A.Mean.L', 'A.SD.L', 'A.Rat.L', 'A.Mean.H', 'A.SD.H', 'A.Rat.H', \n",
    "               'D.Mean.L', 'D.SD.L', 'D.Rat.L', 'D.Mean.H', 'D.SD.H', 'D.Rat.H', \"Unnamed: 0\", \"Prevalence_y\", \n",
    "               \"ECP_RT\", \"ECP_High\", \"ECP_Bach\", \"ECP_Mast\", \"ECP_18\", \"ECP_24\", \"ECP_30\", \"ECP_40\", \"ECP_50\", \n",
    "               \"zECP_18\", \"zECP_24\", \"zECP_30\", \"zECP_40\", \"zECP_50\", \"weigh24\", \"av24\", \"weigh50\", \"av50\"]\n",
    "\n",
    "feature_dataset = full_dataset.drop(columns=delete_attr, axis=1)"
   ],
   "execution_count":3,
   "outputs":[
    
   ],
   "metadata":{
    "datalore":{
     "node_id":"2cdBE6p3ZRdsaC9kpNZcmp",
     "type":"CODE",
     "hide_input_from_viewers":false,
     "hide_output_from_viewers":false,
     "report_properties":{
      "rowId":"GS1WboU96I6gJr2F5oZLUQ",
      "relativeY":0
     }
    }
   }
  },
  {
   "cell_type":"code",
   "source":[
    "feature_dataset.columns.values.tolist()\n",
    "len(feature_dataset)"
   ],
   "execution_count":4,
   "outputs":[
    {
     "data":{
      "text\/plain":[
       "11460"
      ]
     },
     "metadata":{
      
     },
     "output_type":"display_data"
    }
   ],
   "metadata":{
    "datalore":{
     "node_id":"IUr5HBmNPLLlNcg8XZtIxk",
     "type":"CODE",
     "hide_input_from_viewers":false,
     "hide_output_from_viewers":false,
     "report_properties":{
      "rowId":"utoqJpNwAcwailElqHvcWY",
      "relativeY":0
     }
    }
   }
  },
  {
   "cell_type":"markdown",
   "source":[
    "### Labelling\n",
    "\n",
    "In this section, we are creating and assigning category labels for each word. There are four valence-arousal categories; High-Arousal, Positive-Valence, High-Arousal, Negative-Valence, Low-Arousal, Positive-Valence and Low-Arousal, Negative-Valence.\n",
    "\n",
    "The score threshold between them is at 5, which is how we are categorizing in the code below."
   ],
   "attachments":{
    
   },
   "metadata":{
    "datalore":{
     "node_id":"Q7XH79OQ9oLGrrxCi1NHpw",
     "type":"MD",
     "hide_input_from_viewers":false,
     "hide_output_from_viewers":false,
     "report_properties":{
      "rowId":"8Jg3PIKQyG6ADzqDIgEzj3",
      "relativeY":0
     }
    }
   }
  },
  {
   "cell_type":"code",
   "source":[
    "# more than 5 in Valence, More than 5 in arousal\n",
    "# less than 5 in Valence, more than 5 in arousal\n",
    "# more than 5 in Valence, less than 5 in arousal\n",
    "# less than 5 in valence, less than 5 in arousal\n",
    "\n",
    "def label_category(v, a):\n",
    "    if a > 5:\n",
    "        if v > 5:\n",
    "            return \"High-Arousal, Positive-Valence\"\n",
    "        \n",
    "        else:\n",
    "            return \"High-Arousal, Negative-Valence\"\n",
    "    else:\n",
    "        if v > 5:\n",
    "            return \"Low-Arousal, Positive-Valence\"\n",
    "        else:\n",
    "            return \"Low-Arousal, Negative-Valence\"\n",
    "\n",
    "feature_dataset['VA_Category'] = feature_dataset.apply(lambda row: label_category(row['V.Mean.Sum'], row['A.Mean.Sum']), axis=1)\n",
    "# feature_dataset['VA_Category']"
   ],
   "execution_count":5,
   "outputs":[
    
   ],
   "metadata":{
    "datalore":{
     "node_id":"PjrO0Ha690HGKok1MlYMJp",
     "type":"CODE",
     "hide_input_from_viewers":false,
     "hide_output_from_viewers":false,
     "report_properties":{
      "rowId":"pgkag4vMqECT3jTwmqvqNO",
      "relativeY":0
     }
    }
   }
  },
  {
   "cell_type":"markdown",
   "source":[
    "### Balancing the Category Sample sets\n",
    "Below, we are checking the number of words in each category. This allows us to balance the dataset by sampling an equal number of words in each category. "
   ],
   "attachments":{
    
   },
   "metadata":{
    "datalore":{
     "node_id":"JedXHtUJIzuvwyDLQwQj9v",
     "type":"MD",
     "hide_input_from_viewers":false,
     "hide_output_from_viewers":false,
     "report_properties":{
      "rowId":"nmZuoyCb70FKgAcTcdGgfV",
      "relativeY":0
     }
    }
   }
  },
  {
   "cell_type":"code",
   "source":[
    "print(feature_dataset[feature_dataset['VA_Category'] == \"High-Arousal, Positive-Valence\"].shape[0])\n",
    "print(feature_dataset[feature_dataset['VA_Category'] == \"High-Arousal, Negative-Valence\"].shape[0])\n",
    "print(feature_dataset[feature_dataset['VA_Category'] == \"Low-Arousal, Positive-Valence\"].shape[0])\n",
    "print(feature_dataset[feature_dataset['VA_Category'] == \"Low-Arousal, Negative-Valence\"].shape[0])\n",
    "\n",
    "\n",
    "highA_posV = feature_dataset[feature_dataset['VA_Category'] == \"High-Arousal, Positive-Valence\"].sample(n=935)\n",
    "highA_negV = feature_dataset[feature_dataset['VA_Category'] == \"High-Arousal, Negative-Valence\"].sample(n=935)\n",
    "lowA_posV = feature_dataset[feature_dataset['VA_Category'] == \"Low-Arousal, Positive-Valence\"].sample(n=935)\n",
    "lowA_negV = feature_dataset[feature_dataset['VA_Category'] == \"Low-Arousal, Negative-Valence\"].sample(n=935)\n",
    "\n",
    "balanced_dataset = pd.concat([highA_posV, highA_negV, lowA_posV, lowA_negV])\n",
    "\n",
    "balanced_dataset\n"
   ],
   "execution_count":6,
   "outputs":[
    {
     "name":"stdout",
     "text":[
      "935\n",
      "1212\n",
      "5701\n",
      "3612\n"
     ],
     "output_type":"stream"
    },
    {
     "data":{
      "text\/html":[
       "<div>\n",
       "<style scoped>\n",
       "    .dataframe tbody tr th:only-of-type {\n",
       "        vertical-align: middle;\n",
       "    }\n",
       "\n",
       "    .dataframe tbody tr th {\n",
       "        vertical-align: top;\n",
       "    }\n",
       "\n",
       "    .dataframe thead th {\n",
       "        text-align: right;\n",
       "    }\n",
       "<\/style>\n",
       "<table border=\"1\" class=\"dataframe\">\n",
       "  <thead>\n",
       "    <tr style=\"text-align: right;\">\n",
       "      <th><\/th>\n",
       "      <th>Word<\/th>\n",
       "      <th>Prevalence_x<\/th>\n",
       "      <th>FreqZipfUS<\/th>\n",
       "      <th>Length<\/th>\n",
       "      <th>SubtlexZipf<\/th>\n",
       "      <th>Ortho_N<\/th>\n",
       "      <th>Phono_N<\/th>\n",
       "      <th>NPhon<\/th>\n",
       "      <th>NSyll<\/th>\n",
       "      <th>NMorph<\/th>\n",
       "      <th>...<\/th>\n",
       "      <th>V.Mean.Sum<\/th>\n",
       "      <th>V.SD.Sum<\/th>\n",
       "      <th>V.Rat.Sum<\/th>\n",
       "      <th>A.Mean.Sum<\/th>\n",
       "      <th>A.SD.Sum<\/th>\n",
       "      <th>A.Rat.Sum<\/th>\n",
       "      <th>D.Mean.Sum<\/th>\n",
       "      <th>D.SD.Sum<\/th>\n",
       "      <th>D.Rat.Sum<\/th>\n",
       "      <th>VA_Category<\/th>\n",
       "    <\/tr>\n",
       "  <\/thead>\n",
       "  <tbody>\n",
       "    <tr>\n",
       "      <th>5304<\/th>\n",
       "      <td>intelligence<\/td>\n",
       "      <td>2.314933<\/td>\n",
       "      <td>4.284829<\/td>\n",
       "      <td>12<\/td>\n",
       "      <td>4.284829<\/td>\n",
       "      <td>0<\/td>\n",
       "      <td>1<\/td>\n",
       "      <td>10<\/td>\n",
       "      <td>4<\/td>\n",
       "      <td>2<\/td>\n",
       "      <td>...<\/td>\n",
       "      <td>7.65<\/td>\n",
       "      <td>1.09<\/td>\n",
       "      <td>20<\/td>\n",
       "      <td>6.32<\/td>\n",
       "      <td>2.36<\/td>\n",
       "      <td>19<\/td>\n",
       "      <td>6.72<\/td>\n",
       "      <td>2.19<\/td>\n",
       "      <td>25<\/td>\n",
       "      <td>High-Arousal, Positive-Valence<\/td>\n",
       "    <\/tr>\n",
       "    <tr>\n",
       "      <th>4158<\/th>\n",
       "      <td>galaxy<\/td>\n",
       "      <td>2.326348<\/td>\n",
       "      <td>3.823313<\/td>\n",
       "      <td>6<\/td>\n",
       "      <td>3.823313<\/td>\n",
       "      <td>0<\/td>\n",
       "      <td>0<\/td>\n",
       "      <td>7<\/td>\n",
       "      <td>3<\/td>\n",
       "      <td>1<\/td>\n",
       "      <td>...<\/td>\n",
       "      <td>5.95<\/td>\n",
       "      <td>1.96<\/td>\n",
       "      <td>19<\/td>\n",
       "      <td>5.61<\/td>\n",
       "      <td>2.30<\/td>\n",
       "      <td>18<\/td>\n",
       "      <td>4.76<\/td>\n",
       "      <td>2.75<\/td>\n",
       "      <td>17<\/td>\n",
       "      <td>High-Arousal, Positive-Valence<\/td>\n",
       "    <\/tr>\n",
       "    <tr>\n",
       "      <th>7795<\/th>\n",
       "      <td>promotion<\/td>\n",
       "      <td>2.052179<\/td>\n",
       "      <td>4.038468<\/td>\n",
       "      <td>9<\/td>\n",
       "      <td>4.038468<\/td>\n",
       "      <td>0<\/td>\n",
       "      <td>0<\/td>\n",
       "      <td>7<\/td>\n",
       "      <td>3<\/td>\n",
       "      <td>3<\/td>\n",
       "      <td>...<\/td>\n",
       "      <td>7.10<\/td>\n",
       "      <td>2.20<\/td>\n",
       "      <td>20<\/td>\n",
       "      <td>5.21<\/td>\n",
       "      <td>2.99<\/td>\n",
       "      <td>47<\/td>\n",
       "      <td>6.00<\/td>\n",
       "      <td>2.29<\/td>\n",
       "      <td>19<\/td>\n",
       "      <td>High-Arousal, Positive-Valence<\/td>\n",
       "    <\/tr>\n",
       "    <tr>\n",
       "      <th>1110<\/th>\n",
       "      <td>bourbon<\/td>\n",
       "      <td>2.008073<\/td>\n",
       "      <td>3.796984<\/td>\n",
       "      <td>7<\/td>\n",
       "      <td>3.796984<\/td>\n",
       "      <td>0<\/td>\n",
       "      <td>3<\/td>\n",
       "      <td>5<\/td>\n",
       "      <td>2<\/td>\n",
       "      <td>1<\/td>\n",
       "      <td>...<\/td>\n",
       "      <td>5.70<\/td>\n",
       "      <td>2.43<\/td>\n",
       "      <td>20<\/td>\n",
       "      <td>5.95<\/td>\n",
       "      <td>2.95<\/td>\n",
       "      <td>20<\/td>\n",
       "      <td>5.69<\/td>\n",
       "      <td>2.09<\/td>\n",
       "      <td>26<\/td>\n",
       "      <td>High-Arousal, Positive-Valence<\/td>\n",
       "    <\/tr>\n",
       "    <tr>\n",
       "      <th>2062<\/th>\n",
       "      <td>congratulation<\/td>\n",
       "      <td>1.512227<\/td>\n",
       "      <td>2.706807<\/td>\n",
       "      <td>14<\/td>\n",
       "      <td>2.706807<\/td>\n",
       "      <td>0<\/td>\n",
       "      <td>0<\/td>\n",
       "      <td>12<\/td>\n",
       "      <td>5<\/td>\n",
       "      <td>2<\/td>\n",
       "      <td>...<\/td>\n",
       "      <td>7.30<\/td>\n",
       "      <td>1.13<\/td>\n",
       "      <td>20<\/td>\n",
       "      <td>6.05<\/td>\n",
       "      <td>2.31<\/td>\n",
       "      <td>20<\/td>\n",
       "      <td>6.68<\/td>\n",
       "      <td>2.12<\/td>\n",
       "      <td>25<\/td>\n",
       "      <td>High-Arousal, Positive-Valence<\/td>\n",
       "    <\/tr>\n",
       "    <tr>\n",
       "      <th>...<\/th>\n",
       "      <td>...<\/td>\n",
       "      <td>...<\/td>\n",
       "      <td>...<\/td>\n",
       "      <td>...<\/td>\n",
       "      <td>...<\/td>\n",
       "      <td>...<\/td>\n",
       "      <td>...<\/td>\n",
       "      <td>...<\/td>\n",
       "      <td>...<\/td>\n",
       "      <td>...<\/td>\n",
       "      <td>...<\/td>\n",
       "      <td>...<\/td>\n",
       "      <td>...<\/td>\n",
       "      <td>...<\/td>\n",
       "      <td>...<\/td>\n",
       "      <td>...<\/td>\n",
       "      <td>...<\/td>\n",
       "      <td>...<\/td>\n",
       "      <td>...<\/td>\n",
       "      <td>...<\/td>\n",
       "      <td>...<\/td>\n",
       "    <\/tr>\n",
       "    <tr>\n",
       "      <th>8369<\/th>\n",
       "      <td>repugnant<\/td>\n",
       "      <td>1.989313<\/td>\n",
       "      <td>2.893894<\/td>\n",
       "      <td>9<\/td>\n",
       "      <td>2.893894<\/td>\n",
       "      <td>0<\/td>\n",
       "      <td>1<\/td>\n",
       "      <td>9<\/td>\n",
       "      <td>3<\/td>\n",
       "      <td>2<\/td>\n",
       "      <td>...<\/td>\n",
       "      <td>2.83<\/td>\n",
       "      <td>1.62<\/td>\n",
       "      <td>18<\/td>\n",
       "      <td>3.64<\/td>\n",
       "      <td>2.56<\/td>\n",
       "      <td>22<\/td>\n",
       "      <td>4.04<\/td>\n",
       "      <td>2.20<\/td>\n",
       "      <td>23<\/td>\n",
       "      <td>Low-Arousal, Negative-Valence<\/td>\n",
       "    <\/tr>\n",
       "    <tr>\n",
       "      <th>6072<\/th>\n",
       "      <td>marginal<\/td>\n",
       "      <td>1.955704<\/td>\n",
       "      <td>2.754232<\/td>\n",
       "      <td>8<\/td>\n",
       "      <td>2.754232<\/td>\n",
       "      <td>0<\/td>\n",
       "      <td>1<\/td>\n",
       "      <td>7<\/td>\n",
       "      <td>3<\/td>\n",
       "      <td>2<\/td>\n",
       "      <td>...<\/td>\n",
       "      <td>4.60<\/td>\n",
       "      <td>1.05<\/td>\n",
       "      <td>20<\/td>\n",
       "      <td>3.57<\/td>\n",
       "      <td>1.54<\/td>\n",
       "      <td>21<\/td>\n",
       "      <td>5.47<\/td>\n",
       "      <td>2.02<\/td>\n",
       "      <td>34<\/td>\n",
       "      <td>Low-Arousal, Negative-Valence<\/td>\n",
       "    <\/tr>\n",
       "    <tr>\n",
       "      <th>5456<\/th>\n",
       "      <td>jaw<\/td>\n",
       "      <td>2.575829<\/td>\n",
       "      <td>3.854127<\/td>\n",
       "      <td>3<\/td>\n",
       "      <td>3.854127<\/td>\n",
       "      <td>11<\/td>\n",
       "      <td>13<\/td>\n",
       "      <td>2<\/td>\n",
       "      <td>1<\/td>\n",
       "      <td>1<\/td>\n",
       "      <td>...<\/td>\n",
       "      <td>4.41<\/td>\n",
       "      <td>1.01<\/td>\n",
       "      <td>22<\/td>\n",
       "      <td>4.09<\/td>\n",
       "      <td>2.35<\/td>\n",
       "      <td>23<\/td>\n",
       "      <td>5.84<\/td>\n",
       "      <td>1.92<\/td>\n",
       "      <td>19<\/td>\n",
       "      <td>Low-Arousal, Negative-Valence<\/td>\n",
       "    <\/tr>\n",
       "    <tr>\n",
       "      <th>3609<\/th>\n",
       "      <td>extinguish<\/td>\n",
       "      <td>2.151604<\/td>\n",
       "      <td>2.935287<\/td>\n",
       "      <td>10<\/td>\n",
       "      <td>2.935287<\/td>\n",
       "      <td>0<\/td>\n",
       "      <td>0<\/td>\n",
       "      <td>10<\/td>\n",
       "      <td>3<\/td>\n",
       "      <td>1<\/td>\n",
       "      <td>...<\/td>\n",
       "      <td>4.65<\/td>\n",
       "      <td>1.66<\/td>\n",
       "      <td>20<\/td>\n",
       "      <td>4.91<\/td>\n",
       "      <td>2.43<\/td>\n",
       "      <td>22<\/td>\n",
       "      <td>5.47<\/td>\n",
       "      <td>2.48<\/td>\n",
       "      <td>19<\/td>\n",
       "      <td>Low-Arousal, Negative-Valence<\/td>\n",
       "    <\/tr>\n",
       "    <tr>\n",
       "      <th>2054<\/th>\n",
       "      <td>confuse<\/td>\n",
       "      <td>2.575829<\/td>\n",
       "      <td>3.679224<\/td>\n",
       "      <td>7<\/td>\n",
       "      <td>3.679224<\/td>\n",
       "      <td>0<\/td>\n",
       "      <td>0<\/td>\n",
       "      <td>7<\/td>\n",
       "      <td>2<\/td>\n",
       "      <td>1<\/td>\n",
       "      <td>...<\/td>\n",
       "      <td>4.50<\/td>\n",
       "      <td>1.54<\/td>\n",
       "      <td>20<\/td>\n",
       "      <td>3.95<\/td>\n",
       "      <td>1.93<\/td>\n",
       "      <td>20<\/td>\n",
       "      <td>4.39<\/td>\n",
       "      <td>2.42<\/td>\n",
       "      <td>36<\/td>\n",
       "      <td>Low-Arousal, Negative-Valence<\/td>\n",
       "    <\/tr>\n",
       "  <\/tbody>\n",
       "<\/table>\n",
       "<p>3740 rows × 28 columns<\/p>\n",
       "<\/div>"
      ]
     },
     "metadata":{
      
     },
     "output_type":"display_data"
    }
   ],
   "metadata":{
    "datalore":{
     "node_id":"sRXkSzwQumHp9iqLMRpOzc",
     "type":"CODE",
     "hide_input_from_viewers":false,
     "hide_output_from_viewers":false,
     "report_properties":{
      "rowId":"5iUEBX04xDRZV2jFLWQ0Ma",
      "relativeY":0
     }
    }
   }
  },
  {
   "cell_type":"markdown",
   "source":[
    "Here we are separating the word features from their labels"
   ],
   "attachments":{
    
   },
   "metadata":{
    "datalore":{
     "node_id":"7c8IGCeCmfKbNziSNI2DHW",
     "type":"MD",
     "hide_input_from_viewers":false,
     "hide_output_from_viewers":false,
     "report_properties":{
      "rowId":"tXsJIevIwYwBywoJHTUeXW",
      "relativeY":0
     }
    }
   }
  },
  {
   "cell_type":"code",
   "source":[
    "features = balanced_dataset.drop(columns=['Word', 'V.Mean.Sum', 'V.SD.Sum', 'V.Rat.Sum',  \n",
    "                                          'A.Mean.Sum', 'A.SD.Sum', 'A.Rat.Sum','VA_Category'], axis=1)\n",
    "labels  = balanced_dataset['VA_Category']\n",
    "\n",
    "features.index\n",
    "# labels"
   ],
   "execution_count":7,
   "outputs":[
    {
     "data":{
      "text\/plain":[
       "Int64Index([5304, 4158, 7795, 1110, 2062, 6049, 6522, 2283, 4060, 9980,\n",
       "            ...\n",
       "             508, 6152, 6021, 2229, 9194, 8369, 6072, 5456, 3609, 2054],\n",
       "           dtype='int64', length=3740)"
      ]
     },
     "metadata":{
      
     },
     "output_type":"display_data"
    }
   ],
   "metadata":{
    "datalore":{
     "node_id":"G77P3KqjtjhsXmHieYXt03",
     "type":"CODE",
     "hide_input_from_viewers":false,
     "hide_output_from_viewers":false,
     "report_properties":{
      "rowId":"pqPvTRTYD0h1ZWuJcUI89k",
      "relativeY":0
     }
    }
   }
  },
  {
   "cell_type":"markdown",
   "source":[
    "##  STEP 2: Categorization\n",
    "\n",
    "In this section, we train and test different categorization methods, in order to accurately classify a word into the correct VA category, using only the words' linguistic features.\n",
    "\n",
    "We are using five different classifiers such as AdaBoost, Random Forest, Decision Tree, KNeighbors and Gaussian Naive Bayes Classifiers. We train and test them on our formatted dataset and compare the accuracies.\n",
    "\n",
    "The most accurate classifier and its generated categorizations are cross-validated using k-fold of 5 and saved to be used throughout the rest of the project."
   ],
   "attachments":{
    
   },
   "metadata":{
    "datalore":{
     "node_id":"7Y37Dn7WCOSsspDP7PbLom",
     "type":"MD",
     "hide_input_from_viewers":false,
     "hide_output_from_viewers":false,
     "report_properties":{
      "rowId":"LQMfc8noXXGJsK2yY4dENi",
      "relativeY":0
     }
    }
   }
  },
  {
   "cell_type":"code",
   "source":[
    "from sklearn.metrics import confusion_matrix\n",
    "from sklearn.model_selection import train_test_split\n",
    "from sklearn.svm import SVC\n",
    "from sklearn.neighbors import KNeighborsClassifier\n",
    "from sklearn.naive_bayes import GaussianNB\n",
    "from sklearn.ensemble import RandomForestClassifier\n",
    "from sklearn.ensemble import AdaBoostClassifier\n",
    "from sklearn.tree import DecisionTreeClassifier\n",
    "from sklearn.model_selection import KFold\n",
    "from scipy.stats import ttest_rel\n",
    "import numpy as np\n",
    "from sklearn.feature_selection import SelectKBest\n",
    "from sklearn.feature_selection import f_classif\n",
    "\n",
    "\n",
    "# try different classifiers\n",
    "# set the random state for reproducibility \n",
    "\n",
    "np.random.seed(403)\n",
    "dt = DecisionTreeClassifier(max_depth=3)\n",
    "\n",
    "    \n",
    "classifier_list = [ \n",
    "                    AdaBoostClassifier(base_estimator=dt, learning_rate=0.5, n_estimators=50),\n",
    "                    RandomForestClassifier(max_depth=5, n_estimators=10), \n",
    "                    DecisionTreeClassifier(),\n",
    "                    KNeighborsClassifier(n_neighbors=5), \n",
    "                    GaussianNB(),\n",
    "                ]\n",
    "\n",
    "model_names = [ \n",
    "                'AdaBoostClassifier',\n",
    "                \"RandomForestClassifier\", \n",
    "                \"DecisionTreeClassifier\",\n",
    "                'KNeighborsClassifier',\n",
    "                \"GaussianNaiveBayes\",\n",
    "               ]\n",
    "\n",
    "def accuracy(C):\n",
    "    return np.sum(np.diag(C)) \/ C.sum()\n",
    "    \n",
    "\n",
    "def recall(C):\n",
    "    return np.diag(C) \/ np.sum(C, axis=1)\n",
    "\n",
    "\n",
    "def precision(C):\n",
    "    return np.diag(C) \/ C.sum(axis=0)\n",
    "\n",
    "\n",
    "def best_classifier(X_train, X_test, y_train, y_test):\n",
    "    best_accuracy = 0\n",
    "    best_classifier = -1\n",
    "\n",
    "    for i in range(len(classifier_list)):\n",
    "        classify_model = classifier_list[i].fit(X_train, y_train)\n",
    "        y_predict = classify_model.predict(X_test)\n",
    "\n",
    "        c_matrix = confusion_matrix(y_test, y_predict)\n",
    "        acc = accuracy(c_matrix)\n",
    "        recall_var = recall(c_matrix)\n",
    "        precision_var = precision(c_matrix)\n",
    "\n",
    "        classifier_name = model_names[i]\n",
    "\n",
    "        print('Results for ', classifier_name, '\\n')  # Classifier name\n",
    "        print('Accuracy:', acc)\n",
    "        print('Recall:', recall_var)\n",
    "        print('Precision:', precision_var)\n",
    "        print('Confusion Matrix:', c_matrix, '\\n')\n",
    "\n",
    "        if acc >= best_accuracy:\n",
    "            best_accuracy = acc\n",
    "            best_classifier = i\n",
    "            prediction_list = y_predict\n",
    "\n",
    "    #cross validation\n",
    "    kfold_accuracies_dict = {model_index: [0] * 5 for model_index in range(len(model_names))}\n",
    "\n",
    "    kf = KFold(n_splits=5, random_state=401, shuffle=True)\n",
    "\n",
    "    combinex = np.concatenate([X_train, X_test])\n",
    "    combiney = np.concatenate([y_train, y_test])\n",
    "\n",
    "    for j, (train_idx, valid_idx) in enumerate(kf.split(combinex)):\n",
    "        # Get the j^th training and validation sets\n",
    "        kfold_accuracies = []\n",
    "        index = 0\n",
    "        for m in classifier_list:\n",
    "            #Get training and validation data\n",
    "            X_train2, X_valid = combinex[train_idx], combinex[valid_idx]\n",
    "            y_train2, y_valid = combiney[train_idx], combiney[valid_idx]\n",
    "            \n",
    "            #Train the data\n",
    "            m.fit(X_train2, y_train2)\n",
    "            predictions = m.predict(X_valid)\n",
    "            conf_matrix = confusion_matrix(y_valid, predictions)\n",
    "\n",
    "            # Get accuracies for each model\n",
    "            kfold_accuracies.append(accuracy(conf_matrix))\n",
    "            \n",
    "            \n",
    "            kfold_accuracies_dict[index][j] = accuracy(conf_matrix)\n",
    "\n",
    "            #Append accuracy for the models\n",
    "            index+=1\n",
    "    print('Kfold Accuracies:', kfold_accuracies_dict)\n",
    "\n",
    "\n",
    "    p_values = []\n",
    "    for j in range(len(kfold_accuracies_dict)):\n",
    "        if j != best_classifier:\n",
    "            pval_test = ttest_rel(kfold_accuracies_dict[j], kfold_accuracies_dict[best_classifier])[1]\n",
    "            p_values.append(pval_test)\n",
    "    print('p-values: ', p_values)\n",
    "    \n",
    "    return best_classifier, prediction_list\n",
    "\n",
    "\n",
    "X_train, X_test, y_train, y_test  = train_test_split(features, labels, test_size=0.25)\n",
    "#make sure labels are balanced in test set\n",
    "# report class imbalance\n",
    "\n",
    "best_classifier_index, prediction_list = best_classifier(X_train, X_test, y_train, y_test)\n",
    "#k fold"
   ],
   "execution_count":8,
   "outputs":[
    {
     "name":"stdout",
     "text":[
      "Results for  AdaBoostClassifier \n",
      "\n",
      "Accuracy: 0.3888888888888889\n",
      "Recall: [0.48148148 0.45901639 0.26229508 0.36206897]\n",
      "Precision: [0.44827586 0.53846154 0.27586207 0.31818182]\n",
      "Confusion Matrix: [[26  4 19  5]\n",
      " [ 4 28  6 23]\n",
      " [25  3 16 17]\n",
      " [ 3 17 17 21]] \n",
      "\n",
      "Results for  RandomForestClassifier \n",
      "\n",
      "Accuracy: 0.43162393162393164\n",
      "Recall: [0.62962963 0.54098361 0.24590164 0.32758621]\n",
      "Precision: [0.45333333 0.46478873 0.36585366 0.40425532]\n",
      "Confusion Matrix: [[34  6 12  2]\n",
      " [ 9 33  5 14]\n",
      " [25  9 15 12]\n",
      " [ 7 23  9 19]] \n",
      "\n",
      "Results for  DecisionTreeClassifier \n",
      "\n",
      "Accuracy: 0.36752136752136755\n",
      "Recall: [0.42592593 0.37704918 0.3442623  0.32758621]\n",
      "Precision: [0.36507937 0.41818182 0.30882353 0.39583333]\n",
      "Confusion Matrix: [[23  9 18  4]\n",
      " [12 23 13 13]\n",
      " [21  7 21 12]\n",
      " [ 7 16 16 19]] \n",
      "\n",
      "Results for  KNeighborsClassifier \n",
      "\n",
      "Accuracy: 0.29914529914529914\n",
      "Recall: [0.37037037 0.37704918 0.26229508 0.18965517]\n",
      "Precision: [0.27027027 0.33823529 0.32653061 0.25581395]\n",
      "Confusion Matrix: [[20 14 10 10]\n",
      " [21 23  7 10]\n",
      " [18 15 16 12]\n",
      " [15 16 16 11]] \n",
      "\n",
      "Results for  GaussianNaiveBayes \n",
      "\n",
      "Accuracy: 0.4230769230769231\n",
      "Recall: [0.74074074 0.54098361 0.16393443 0.27586207]\n",
      "Precision: [0.4040404  0.48529412 0.27777778 0.51612903]\n",
      "Confusion Matrix: [[40  3  7  4]\n",
      " [15 33 10  3]\n",
      " [33 10 10  8]\n",
      " [11 22  9 16]] \n",
      "\n",
      "Kfold Accuracies: {0: [0.4679144385026738, 0.446524064171123, 0.4799465240641711, 0.4532085561497326, 0.47593582887700536], 1: [0.4799465240641711, 0.47459893048128343, 0.48663101604278075, 0.47459893048128343, 0.4879679144385027], 2: [0.4090909090909091, 0.42112299465240643, 0.42112299465240643, 0.4050802139037433, 0.4197860962566845], 3: [0.31283422459893045, 0.27406417112299464, 0.2727272727272727, 0.2927807486631016, 0.2927807486631016], 4: [0.45588235294117646, 0.43315508021390375, 0.4425133689839572, 0.41310160427807485, 0.4197860962566845]}\n",
      "p-values:  [0.013800047876838518, 3.1009085897862154e-05, 1.8136263964862562e-05, 0.003595052243528137]\n"
     ],
     "output_type":"stream"
    },
    {
     "name":"stderr",
     "text":[
      "\/opt\/python\/envs\/default\/lib\/python3.8\/site-packages\/sklearn\/neighbors\/_classification.py:228: FutureWarning: Unlike other reduction functions (e.g. `skew`, `kurtosis`), the default behavior of `mode` typically preserves the axis it acts along. In SciPy 1.11.0, this behavior will change: the default value of `keepdims` will become False, the `axis` over which the statistic is taken will be eliminated, and the value None will no longer be accepted. Set `keepdims` to True or False to avoid this warning.\n",
      "  mode, _ = stats.mode(_y[neigh_ind, k], axis=1)\n",
      "\/opt\/python\/envs\/default\/lib\/python3.8\/site-packages\/sklearn\/neighbors\/_classification.py:228: FutureWarning: Unlike other reduction functions (e.g. `skew`, `kurtosis`), the default behavior of `mode` typically preserves the axis it acts along. In SciPy 1.11.0, this behavior will change: the default value of `keepdims` will become False, the `axis` over which the statistic is taken will be eliminated, and the value None will no longer be accepted. Set `keepdims` to True or False to avoid this warning.\n",
      "  mode, _ = stats.mode(_y[neigh_ind, k], axis=1)\n",
      "\/opt\/python\/envs\/default\/lib\/python3.8\/site-packages\/sklearn\/neighbors\/_classification.py:228: FutureWarning: Unlike other reduction functions (e.g. `skew`, `kurtosis`), the default behavior of `mode` typically preserves the axis it acts along. In SciPy 1.11.0, this behavior will change: the default value of `keepdims` will become False, the `axis` over which the statistic is taken will be eliminated, and the value None will no longer be accepted. Set `keepdims` to True or False to avoid this warning.\n",
      "  mode, _ = stats.mode(_y[neigh_ind, k], axis=1)\n",
      "\/opt\/python\/envs\/default\/lib\/python3.8\/site-packages\/sklearn\/neighbors\/_classification.py:228: FutureWarning: Unlike other reduction functions (e.g. `skew`, `kurtosis`), the default behavior of `mode` typically preserves the axis it acts along. In SciPy 1.11.0, this behavior will change: the default value of `keepdims` will become False, the `axis` over which the statistic is taken will be eliminated, and the value None will no longer be accepted. Set `keepdims` to True or False to avoid this warning.\n",
      "  mode, _ = stats.mode(_y[neigh_ind, k], axis=1)\n",
      "\/opt\/python\/envs\/default\/lib\/python3.8\/site-packages\/sklearn\/neighbors\/_classification.py:228: FutureWarning: Unlike other reduction functions (e.g. `skew`, `kurtosis`), the default behavior of `mode` typically preserves the axis it acts along. In SciPy 1.11.0, this behavior will change: the default value of `keepdims` will become False, the `axis` over which the statistic is taken will be eliminated, and the value None will no longer be accepted. Set `keepdims` to True or False to avoid this warning.\n",
      "  mode, _ = stats.mode(_y[neigh_ind, k], axis=1)\n",
      "\/opt\/python\/envs\/default\/lib\/python3.8\/site-packages\/sklearn\/neighbors\/_classification.py:228: FutureWarning: Unlike other reduction functions (e.g. `skew`, `kurtosis`), the default behavior of `mode` typically preserves the axis it acts along. In SciPy 1.11.0, this behavior will change: the default value of `keepdims` will become False, the `axis` over which the statistic is taken will be eliminated, and the value None will no longer be accepted. Set `keepdims` to True or False to avoid this warning.\n",
      "  mode, _ = stats.mode(_y[neigh_ind, k], axis=1)\n"
     ],
     "output_type":"stream"
    }
   ],
   "metadata":{
    "datalore":{
     "node_id":"l2j1LEXX5zzA4pavl2sA4B",
     "type":"CODE",
     "hide_input_from_viewers":false,
     "hide_output_from_viewers":false,
     "report_properties":{
      "rowId":"kAM6jrxwZcwFfnMNnZX5Vf",
      "relativeY":0
     }
    }
   }
  },
  {
   "cell_type":"markdown",
   "source":[
    "### Selecting K-Best Features\n",
    "The code below selects the best 5 features that the most accurate classifier uses for categorisation. The p-value of the features taken are also found, to see if the features are significant in helping categorisation. "
   ],
   "attachments":{
    
   },
   "metadata":{
    "datalore":{
     "node_id":"r12rGWN4hg7v5Qpu8na6vG",
     "type":"MD",
     "hide_input_from_viewers":false,
     "hide_output_from_viewers":false,
     "report_properties":{
      "rowId":"IBDLVp4sqZN68ws8ElCBRH",
      "relativeY":0
     }
    }
   }
  },
  {
   "cell_type":"code",
   "source":[
    "def select_k_best(X_train, X_test, y_train, y_test, index):\n",
    "    \n",
    "    X_1k = X_train.iloc[:1000].values\n",
    "    y_1k = y_train.iloc[:1000].values\n",
    "\n",
    "    for k_feat in [5, 10]:\n",
    "            selector = SelectKBest(f_classif, k=k_feat)\n",
    "            X_new = selector.fit_transform(X_train, y_train)\n",
    "            \n",
    "            pp = selector.pvalues_ #to.list\n",
    "            p_values = pp[np.argsort(pp)[:k_feat]]\n",
    "\n",
    "            # Get top 5 for 1k\n",
    "            if k_feat == 5:\n",
    "                top_5 = np.argsort(selector.pvalues_)[:k_feat]\n",
    "\n",
    "    print('features ', top_5, 'with p-values of ', p_values)\n",
    "    k_feat = 5\n",
    "        \n",
    "    selector = SelectKBest(f_classif, k=k_feat)\n",
    "    X_new = selector.fit_transform(X_1k, y_1k)\n",
    "    p_values_1k = np.argsort(selector.pvalues_)[:k_feat]\n",
    "\n",
    "    # Get accuracies on full set of both classifiers\n",
    "    pred_1k = classifier_list[index].fit(X_1k[:, p_values_1k], y_1k).predict(X_test.iloc[:, p_values_1k].values)\n",
    "    accuracy_1k = accuracy(confusion_matrix(y_test, pred_1k))\n",
    "\n",
    "    pred_full = classifier_list[index].fit(X_train.iloc[:, top_5].values, y_train).predict(X_test.iloc[:, top_5].values)\n",
    "    accuracy_full = accuracy(confusion_matrix(y_test, pred_full))\n",
    "\n",
    "    #Take intersction using sets\n",
    "    set_top5 = set(top_5)\n",
    "    set_pvales = set(p_values_1k)\n",
    "\n",
    "    feature_intersection = set_pvales.intersection(set_top5)\n",
    "\n",
    "    print('Accuracy for 1k: ', accuracy_1k)\n",
    "    print('Accuracy for full dataset: ', accuracy_full)\n",
    "    print('Chosen feature intersection: ', feature_intersection)\n",
    "    print('Top-5 at higher: ', top_5)\n",
    "    for f in top_5:\n",
    "        print(list(features.columns.values)[f])\n",
    "    return top_5\n",
    "    \n",
    "top_5 = select_k_best(X_train, X_test, y_train, y_test, best_classifier_index)"
   ],
   "execution_count":9,
   "outputs":[
    {
     "name":"stdout",
     "text":[
      "features  [17 18  9  0 13] with p-values of  [0.00000000e+00 1.22055429e-37 3.35072455e-27 1.99237754e-25\n",
      " 1.12094678e-23 1.57410622e-23 1.57410624e-23 2.29851755e-19\n",
      " 3.65678746e-18 7.12914145e-15]\n",
      "Accuracy for 1k:  0.4188034188034188\n",
      "Accuracy for full dataset:  0.4658119658119658\n",
      "Chosen feature intersection:  {0, 9, 18, 17}\n",
      "Top-5 at higher:  [17 18  9  0 13]\n",
      "D.Mean.Sum\n",
      "D.SD.Sum\n",
      "AoA\n",
      "Prevalence_x\n",
      "I_Mean_Accuracy\n"
     ],
     "output_type":"stream"
    }
   ],
   "metadata":{
    "datalore":{
     "node_id":"7UJf5ExZ3yoCMVtdKeXe94",
     "type":"CODE",
     "hide_input_from_viewers":false,
     "hide_output_from_viewers":false,
     "report_properties":{
      "rowId":"jWAdy27pvrj2QYqeXBKvdL",
      "relativeY":0
     }
    }
   }
  },
  {
   "cell_type":"markdown",
   "source":[
    "This code just checks how the data is organised. Each row of the database has a unique row id, which remains consistent throughout all the datasets. This helps us match the words and find the feature values based on the row id. Each word has a VA category and matching VA scores as well, which is used to find accuracies."
   ],
   "attachments":{
    
   },
   "metadata":{
    "datalore":{
     "node_id":"TPa1JFA5n0yB8wPD4ZU4Sl",
     "type":"MD",
     "hide_input_from_viewers":false,
     "hide_output_from_viewers":false,
     "report_properties":{
      "rowId":"RezjQdt1n1gDo4hUUjqs1T",
      "relativeY":0
     }
    }
   }
  },
  {
   "cell_type":"code",
   "source":[
    "# print(prediction_list[0])    # np arraylist of the best model's predictions\n",
    "#Ex: High-Arousal, Negative-Valence\n",
    "\n",
    "# print(X_test.iloc[0].name)   # dataframe object to get the name property, which is the word index id\n",
    "#Ex: 10789\n",
    "\n",
    "# print(X_test.index) # each index corresponds to the word index. parallel list to prediciton_list\n",
    "# print(X_test.index[0])\n",
    "#Ex: 10789\n",
    "\n",
    "# print(balanced_dataset.loc[10789])  #returns row for that word's index = feature vector\n",
    "# print(balanced_dataset.loc[X_test.index[0]]['Word'])\n",
    "#Ex: unhappy\n",
    "# print(balanced_dataset.loc[X_test.index[0]]['VA_Category'])\n",
    "\n",
    "# for f in top_5:\n",
    "#     feature = list(features.columns.values)[f]\n",
    "#     # print(feature)\n",
    "#     print(feature_dataset.loc[X_test.index[0]][feature])\n",
    "\n",
    "# feature_dataset[feature_dataset['VA_Category'] == 'High-Arousal, Positive-Valence']['Word']\n",
    "# feature_dataset[feature_dataset['VA_Category'] == 'High-Arousal, Positive-Valence'].iloc[0]['Word']\n",
    "# print(len(X_test))\n",
    "    "
   ],
   "execution_count":10,
   "outputs":[
    
   ],
   "metadata":{
    "datalore":{
     "node_id":"7WENUYVON1SUZZeXLISCbD",
     "type":"CODE",
     "hide_input_from_viewers":false,
     "hide_output_from_viewers":false,
     "report_properties":{
      "rowId":"u1hl6KJEy2t3FUH1G1qEmM",
      "relativeY":0
     }
    }
   }
  },
  {
   "cell_type":"markdown",
   "source":[
    "# STEP 3: Generating Scores using Weighted Neighbours\n",
    "\n",
    "In this section, the 5 most similar words to the test word are found, and their weighted average is taken (according to their ranked similarity), to generate a final predicted VA score.\n",
    "\n",
    "At the end of this code block, we calculate our generated scores' accuracy and we find that they are quite accurate. Our predicted valence and arousal have an accuracy of 81% and 79% respectively. \n",
    "\n",
    "At the same time, we also check if our accuracies are above chance. This is done by randomly assigning scores to valence and arousal scores and checking their accuracies. The randomly generated valence scores had an accuracy of 46% and arousal had 51%. We can see that our values are much higher, meaning that our model is able to generate scores above chance level."
   ],
   "attachments":{
    
   },
   "metadata":{
    "datalore":{
     "node_id":"z4pMT9MXVz6cyWmWWaAFHE",
     "type":"MD",
     "hide_input_from_viewers":false,
     "hide_output_from_viewers":false,
     "report_properties":{
      "rowId":"BbsQjaqbPuz3qrYTBedpT6",
      "relativeY":0
     }
    }
   }
  },
  {
   "cell_type":"code",
   "source":[
    "from sklearn.metrics.pairwise import cosine_similarity\n",
    "import random\n",
    "\n",
    "predicted_v_scores = []  \n",
    "actual_v_scores = []\n",
    "\n",
    "predicted_a_scores = []  \n",
    "actual_a_scores = []\n",
    "\n",
    "overall_valence_acc = []\n",
    "overall_arousal_acc = []\n",
    "\n",
    "chance_v = []\n",
    "chance_a = []\n",
    "\n",
    "overall_chance_v = []\n",
    "overall_chance_a = []\n",
    "\n",
    "def final_val(prediction_list, X_test, top_5):\n",
    "    # iteratue through length of X_Test  \n",
    "    feature = []\n",
    "\n",
    "    for f in top_5:\n",
    "        feature.append(list(features.columns.values)[f])\n",
    "\n",
    "    for row_index in range(len(prediction_list)):\n",
    "        # find the category the test word was categorized within\n",
    "        # print(word_row)\n",
    "        word_index = X_test.index[row_index]\n",
    "        predicted_category = prediction_list[row_index]\n",
    "\n",
    "        # find all the words that were categorized in the same category\n",
    "        same_cat_words = feature_dataset[feature_dataset['VA_Category'] == predicted_category].index\n",
    "        \n",
    "        # for each word, get the most important feature vector\n",
    "        word_feature_vec = defaultdict(list)   \n",
    "\n",
    "        # how to keep the rankings of cosine similarity alongside the corresponding word\n",
    "        # Answer: {k: v for k, v in sorted(x.items(), key=lambda item: item[1])}\n",
    "\n",
    "        test_word_vec = []\n",
    "\n",
    "        feature_value0 = feature_dataset.loc[word_index][feature[0]]\n",
    "        feature_value1 = feature_dataset.loc[word_index][feature[1]]\n",
    "        feature_value2 = feature_dataset.loc[word_index][feature[2]]\n",
    "        feature_value3 = feature_dataset.loc[word_index][feature[3]]\n",
    "        feature_value4 = feature_dataset.loc[word_index][feature[4]]\n",
    "        test_word_vec = [feature_value0,feature_value1, feature_value2, \n",
    "                             feature_value3, feature_value4]\n",
    "\n",
    "        # for each word in the category, find its cosine similarity against the test word using the best features\n",
    "        for cat_word_idx in same_cat_words:\n",
    "            feat_vec = []\n",
    "            \n",
    "            # do not consider the test word itself\n",
    "            if cat_word_idx == word_index:\n",
    "                continue\n",
    "            \n",
    "            name = feature_dataset.loc[cat_word_idx]['Word']\n",
    "            valence = feature_dataset.loc[cat_word_idx]['V.Mean.Sum']\n",
    "            arousal = feature_dataset.loc[cat_word_idx]['A.Mean.Sum']\n",
    "            feature_value0 = feature_dataset.loc[cat_word_idx][feature[0]]\n",
    "            feature_value1 = feature_dataset.loc[cat_word_idx][feature[1]]\n",
    "            feature_value2 = feature_dataset.loc[cat_word_idx][feature[2]]\n",
    "            feature_value3 = feature_dataset.loc[cat_word_idx][feature[3]]\n",
    "            feature_value4 = feature_dataset.loc[cat_word_idx][feature[4]]\n",
    "            feat_vec = [feature_value0,feature_value1, feature_value2, \n",
    "                             feature_value3, feature_value4]\n",
    "            \n",
    "            cos_sim = cosine_similarity([test_word_vec], [feat_vec])\n",
    "            word_feature_vec[name] = [cos_sim[0][0], valence, arousal]\n",
    "\n",
    "        \n",
    "        # rank the words according to their similarity\n",
    "        ranked_words = dict(sorted(word_feature_vec.items(), key=lambda item: item[1], reverse=True))     \n",
    "        \n",
    "        valence_words_data = []\n",
    "        arousal_words_data = []\n",
    "\n",
    "        weight_length = 5\n",
    "        counter = 0\n",
    "\n",
    "        for item in ranked_words.keys():\n",
    "            # print(ranked_words[item][1])\n",
    "            if counter <= weight_length:\n",
    "                valence_words_data.append(ranked_words[item][1])\n",
    "                arousal_words_data.append(ranked_words[item][2])\n",
    "                counter+=1\n",
    "            else:\n",
    "                break\n",
    "        \n",
    "        # int(len(ranked_words)*0.1)\n",
    "        weight_list = list(range(weight_length, 0, -1))\n",
    "        valence_scores = valence_words_data[:weight_length]\n",
    "        arousal_scores = arousal_words_data[:weight_length]\n",
    "\n",
    "        valence_weighted_average = np.average(valence_scores, weights=weight_list)\n",
    "        arousal_weighted_average = np.average(arousal_scores, weights=weight_list)\n",
    "\n",
    "       \n",
    "        # used the word ranks to find a weighted mean of their VA scores to get the final value\n",
    "        \n",
    "\n",
    "        # Check it against the actual VA score of test word, record accuracy?\n",
    "\n",
    "        predicted_v_scores.append(valence_weighted_average)\n",
    "        predicted_a_scores.append(arousal_weighted_average)\n",
    "\n",
    "        guess_v = round(random.uniform(1, 9), 2)\n",
    "        guess_a = round(random.uniform(1, 9), 2)\n",
    "\n",
    "        chance_a.append(guess_v)\n",
    "        chance_v.append(guess_a)\n",
    "        \n",
    "        v = feature_dataset.loc[word_index]['V.Mean.Sum']\n",
    "        a = feature_dataset.loc[word_index]['A.Mean.Sum']\n",
    "        actual_v_scores.append(v)\n",
    "        actual_a_scores.append(a)\n",
    "\n",
    "        # Accuracy is found by calculating how far off the model's prediction is from the actual value, \n",
    "        # relative to the actual value itself, which gives a normalized measure of accuracy.\n",
    "        \n",
    "        valence_acc = abs(actual_v_scores[row_index] - valence_weighted_average)\/actual_v_scores[row_index]\n",
    "        arousal_acc = abs(actual_a_scores[row_index] - arousal_weighted_average)\/actual_a_scores[row_index]\n",
    "\n",
    "        chance_v_acc = abs(actual_v_scores[row_index] - guess_v)\/actual_v_scores[row_index]\n",
    "        chance_a_acc = abs(actual_a_scores[row_index] - guess_a)\/actual_a_scores[row_index]\n",
    "\n",
    "        overall_valence_acc.append(valence_acc)\n",
    "        overall_arousal_acc.append(arousal_acc)\n",
    "\n",
    "        overall_chance_a.append(chance_v_acc)\n",
    "        overall_chance_v.append(chance_a_acc)\n",
    "\n",
    "    valence_acc = np.mean(np.array(overall_valence_acc))\n",
    "    arousal_acc = np.mean(np.array(overall_arousal_acc))\n",
    "    \n",
    "    chance_valence_acc = np.mean(np.array(overall_chance_a))\n",
    "    chance_arousal_acc = np.mean(np.array(overall_chance_v))     \n",
    "        \n",
    "     \n",
    "    return valence_acc, arousal_acc, chance_valence_acc, chance_arousal_acc\n",
    "\n",
    "# loop through x_test\n",
    "final_val(prediction_list, X_test, top_5)\n",
    "\n"
   ],
   "execution_count":11,
   "outputs":[
    {
     "data":{
      "text\/plain":[
       "(0.18944232542135953,\n",
       " 0.20700357600624095,\n",
       " 0.5282692918505484,\n",
       " 0.4936097206440729)"
      ]
     },
     "metadata":{
      
     },
     "output_type":"display_data"
    }
   ],
   "metadata":{
    "datalore":{
     "node_id":"ZgQbJaJdML2POlNx01Idjm",
     "type":"CODE",
     "hide_input_from_viewers":false,
     "hide_output_from_viewers":false,
     "report_properties":{
      "rowId":"kz3HatJUWsq7qDXsg6FgbW",
      "relativeY":0
     }
    }
   }
  },
  {
   "cell_type":"markdown",
   "source":[
    "# STEP 4: Statistical Analysis\n",
    "\n",
    "In this section, we conduct statistical analysis to check if our results are correlated. Below we check our results using a SpearmanR correlation. We find that out valence scores are very correlated whereas our arousal scores are less so. Both results found are significant."
   ],
   "attachments":{
    
   },
   "metadata":{
    "datalore":{
     "node_id":"iEVG3KT86j1RcMeeolASx3",
     "type":"MD",
     "hide_input_from_viewers":false,
     "hide_output_from_viewers":false,
     "report_properties":{
      "rowId":"8UPTo0xJPdR1ktL2sE1yCb",
      "relativeY":0
     }
    }
   }
  },
  {
   "cell_type":"code",
   "source":[
    "from scipy.stats import spearmanr\n",
    "\n",
    "rhoV, pV = spearmanr(predicted_v_scores, actual_v_scores)\n",
    "rhoA, pA = spearmanr(predicted_a_scores, actual_a_scores)\n",
    "\n",
    "print(rhoV, pV)\n",
    "print(rhoA, pA)"
   ],
   "execution_count":12,
   "outputs":[
    {
     "name":"stdout",
     "text":[
      "0.6883944682463152 3.3421587618198263e-34\n",
      "0.21984504524730572 0.0007079036849376149\n"
     ],
     "output_type":"stream"
    }
   ],
   "metadata":{
    "datalore":{
     "node_id":"UIRIbBdz3b4xOVDzpOKupY",
     "type":"CODE",
     "hide_input_from_viewers":false,
     "hide_output_from_viewers":false,
     "report_properties":{
      "rowId":"37cAjataa6cUPSjuXGSGv5",
      "relativeY":0
     }
    }
   }
  },
  {
   "cell_type":"code",
   "source":[
    "rhoV, pV = spearmanr(chance_v, actual_v_scores)\n",
    "rhoA, pA = spearmanr(chance_a, actual_a_scores)\n",
    "\n",
    "print(rhoV, pV)\n",
    "print(rhoA, pA)"
   ],
   "execution_count":13,
   "outputs":[
    {
     "name":"stdout",
     "text":[
      "-0.09379968428262785 0.15262207226825933\n",
      "0.006984231804067261 0.9153702170306506\n"
     ],
     "output_type":"stream"
    }
   ],
   "metadata":{
    "datalore":{
     "node_id":"vwLrPW57p9tF19kjObkRK9",
     "type":"CODE",
     "hide_input_from_viewers":false,
     "hide_output_from_viewers":false,
     "report_properties":{
      "rowId":"ssaqdFO8IOGlAYYbdC9EgJ",
      "relativeY":0
     }
    }
   }
  },
  {
   "cell_type":"markdown",
   "source":[
    "We also plot our results onto graphs to better visualize them."
   ],
   "attachments":{
    
   },
   "metadata":{
    "datalore":{
     "node_id":"lF2ZoLthjaOImfbG3TPQIV",
     "type":"MD",
     "hide_input_from_viewers":false,
     "hide_output_from_viewers":false,
     "report_properties":{
      "rowId":"cIIOiDCIYWHTPfux4vJRxr",
      "relativeY":0
     }
    }
   }
  },
  {
   "cell_type":"code",
   "source":[
    "plt.scatter(actual_a_scores, predicted_a_scores, c='#6e79e4')\n",
    "\n",
    "# font1 = {'family':'Bebas Neue','color':'blue','size':20}\n",
    "# font2 = {'family':'Raleway','color':'darkred','size':15}\n",
    "\n",
    "plt.title(\"Correlation between predicted and actual arousal scores\")\n",
    "\n",
    "plt.xlabel(\"Actual Arousal Scores\")\n",
    "plt.ylabel(\"Predicted Arousal Scores\")\n",
    "plt.show()"
   ],
   "execution_count":14,
   "outputs":[
    {
     "data":{
      "image\/png":"[encoded data removed]"
     },
     "metadata":{
      "image\/png":{
       
      }
     },
     "output_type":"display_data"
    }
   ],
   "metadata":{
    "datalore":{
     "node_id":"R1oulrJNWiLItl4tajb0vW",
     "type":"CODE",
     "hide_input_from_viewers":false,
     "hide_output_from_viewers":false,
     "report_properties":{
      "rowId":"N3FTnjEYI6kRfUXHqs8EgO",
      "relativeY":0
     }
    }
   }
  },
  {
   "cell_type":"code",
   "source":[
    "plt.scatter(actual_v_scores, predicted_v_scores, c='#6e79e4')\n",
    "plt.title(\"Correlation between predicted and actual valence scores\")\n",
    "\n",
    "plt.xlabel(\"actual valence scores\")\n",
    "plt.ylabel(\"predicted valence scores\")\n",
    "plt.show()"
   ],
   "execution_count":15,
   "outputs":[
    {
     "data":{
      "image\/png":"[encoded data removed]"
     },
     "metadata":{
      "image\/png":{
       
      }
     },
     "output_type":"display_data"
    }
   ],
   "metadata":{
    "datalore":{
     "node_id":"Adfwc4rALScjh1VfvKCzgL",
     "type":"CODE",
     "hide_input_from_viewers":false,
     "hide_output_from_viewers":false,
     "report_properties":{
      "rowId":"wD6EIRagk24A1uInmq7yTb",
      "relativeY":0
     }
    }
   }
  },
  {
   "cell_type":"code",
   "source":[
    "plt.scatter(predicted_a_scores, predicted_v_scores, c='#6e79e4')\n",
    "plt.title(\"Predicted valence and arousal scores\")\n",
    "\n",
    "plt.axhline(y=5, c='red', linestyle='dashed', label=\"predicted scores\")\n",
    "plt.axvline(x=5, c='green', linestyle='dashed', label=\"horizontal\")\n",
    "\n",
    "plt.legend((\"Predicted Scores Subset\", \"Valence Cut-Off\", \"Arousal Cut-Off\"))\n",
    "\n",
    "plt.xlabel(\"predicted arousal scores\")\n",
    "plt.ylabel(\"predicted valence scores\")\n",
    "plt.show()"
   ],
   "execution_count":30,
   "outputs":[
    {
     "data":{
      "image\/png":"[encoded data removed]"
     },
     "metadata":{
      "image\/png":{
       
      }
     },
     "output_type":"display_data"
    }
   ],
   "metadata":{
    "datalore":{
     "node_id":"ziWjFWIP7nmjDkWwDguOpU",
     "type":"CODE",
     "hide_input_from_viewers":false,
     "hide_output_from_viewers":false,
     "report_properties":{
      "rowId":"nVZgXI8y6oYQNdZIQtPcTr",
      "relativeY":0
     }
    }
   }
  }
 ],
 "metadata":{
  "kernelspec":{
   "display_name":"Python",
   "language":"python",
   "name":"python"
  },
  "datalore":{
   "computation_mode":"JUPYTER",
   "package_manager":"pip",
   "base_environment":"default",
   "packages":[
    {
     "name":"openpyxl",
     "version":"3.2.0b1",
     "source":"PIP"
    }
   ],
   "report_row_ids":[
    "ggVwqYfPVDYuOwzHyPtigc",
    "7ro98QzxQbJIgzlm01WluE",
    "lA49hwzJTKOKXoDy1xjV3a",
    "W9tfqEngjNpug0DiNxDNV4",
    "GS1WboU96I6gJr2F5oZLUQ",
    "utoqJpNwAcwailElqHvcWY",
    "8Jg3PIKQyG6ADzqDIgEzj3",
    "pgkag4vMqECT3jTwmqvqNO",
    "nmZuoyCb70FKgAcTcdGgfV",
    "5iUEBX04xDRZV2jFLWQ0Ma",
    "tXsJIevIwYwBywoJHTUeXW",
    "pqPvTRTYD0h1ZWuJcUI89k",
    "LQMfc8noXXGJsK2yY4dENi",
    "kAM6jrxwZcwFfnMNnZX5Vf",
    "IBDLVp4sqZN68ws8ElCBRH",
    "jWAdy27pvrj2QYqeXBKvdL",
    "RezjQdt1n1gDo4hUUjqs1T",
    "u1hl6KJEy2t3FUH1G1qEmM",
    "BbsQjaqbPuz3qrYTBedpT6",
    "kz3HatJUWsq7qDXsg6FgbW",
    "8UPTo0xJPdR1ktL2sE1yCb",
    "37cAjataa6cUPSjuXGSGv5",
    "ssaqdFO8IOGlAYYbdC9EgJ",
    "cIIOiDCIYWHTPfux4vJRxr",
    "N3FTnjEYI6kRfUXHqs8EgO",
    "wD6EIRagk24A1uInmq7yTb",
    "nVZgXI8y6oYQNdZIQtPcTr"
   ],
   "version":2
  }
 },
 "nbformat":4,
 "nbformat_minor":4
}